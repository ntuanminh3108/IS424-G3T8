{
 "cells": [
  {
   "cell_type": "code",
   "execution_count": 1,
   "metadata": {},
   "outputs": [],
   "source": [
    "import pandas as pd\n",
    "import numpy as np\n",
    "import seaborn as sns\n",
    "import matplotlib.pyplot as plt\n",
    "%matplotlib inline\n",
    "from sklearn.model_selection import train_test_split\n",
    "from sklearn.linear_model import LinearRegression"
   ]
  },
  {
   "cell_type": "code",
   "execution_count": 2,
   "metadata": {},
   "outputs": [
    {
     "data": {
      "text/html": [
       "<div>\n",
       "<style scoped>\n",
       "    .dataframe tbody tr th:only-of-type {\n",
       "        vertical-align: middle;\n",
       "    }\n",
       "\n",
       "    .dataframe tbody tr th {\n",
       "        vertical-align: top;\n",
       "    }\n",
       "\n",
       "    .dataframe thead th {\n",
       "        text-align: right;\n",
       "    }\n",
       "</style>\n",
       "<table border=\"1\" class=\"dataframe\">\n",
       "  <thead>\n",
       "    <tr style=\"text-align: right;\">\n",
       "      <th></th>\n",
       "      <th>medIncome</th>\n",
       "      <th>pctWWage</th>\n",
       "      <th>perCapInc</th>\n",
       "      <th>whitePerCap</th>\n",
       "      <th>blackPerCap</th>\n",
       "      <th>indianPerCap</th>\n",
       "      <th>asianPerCap</th>\n",
       "      <th>otherPerCap</th>\n",
       "      <th>HispPerCap</th>\n",
       "      <th>pctPopUnderPov</th>\n",
       "      <th>...</th>\n",
       "      <th>Log_burglPerPop</th>\n",
       "      <th>Log_larcenies</th>\n",
       "      <th>Log_larcPerPop</th>\n",
       "      <th>Log_autoTheft</th>\n",
       "      <th>Log_autoTheftPerPop</th>\n",
       "      <th>Log_arsons</th>\n",
       "      <th>Log_arsonsPerPop</th>\n",
       "      <th>Log_ViolentCrimesPerPop</th>\n",
       "      <th>Log_nonViolPerPop</th>\n",
       "      <th>State</th>\n",
       "    </tr>\n",
       "  </thead>\n",
       "  <tbody>\n",
       "    <tr>\n",
       "      <th>0</th>\n",
       "      <td>0.876345</td>\n",
       "      <td>1.600432</td>\n",
       "      <td>0.941602</td>\n",
       "      <td>1.159390</td>\n",
       "      <td>0.415994</td>\n",
       "      <td>-0.093158</td>\n",
       "      <td>0.039099</td>\n",
       "      <td>0.835051</td>\n",
       "      <td>0.563030</td>\n",
       "      <td>-0.420409</td>\n",
       "      <td>...</td>\n",
       "      <td>1.014704</td>\n",
       "      <td>1.968360</td>\n",
       "      <td>0.007233</td>\n",
       "      <td>2.586872</td>\n",
       "      <td>0.764607</td>\n",
       "      <td>2.145875</td>\n",
       "      <td>0.820506</td>\n",
       "      <td>1.989888</td>\n",
       "      <td>0.680567</td>\n",
       "      <td>AK</td>\n",
       "    </tr>\n",
       "    <tr>\n",
       "      <th>1</th>\n",
       "      <td>1.234794</td>\n",
       "      <td>1.437346</td>\n",
       "      <td>1.008933</td>\n",
       "      <td>1.308139</td>\n",
       "      <td>0.480702</td>\n",
       "      <td>-0.121228</td>\n",
       "      <td>-0.063869</td>\n",
       "      <td>0.771022</td>\n",
       "      <td>0.448013</td>\n",
       "      <td>-0.640405</td>\n",
       "      <td>...</td>\n",
       "      <td>-0.978673</td>\n",
       "      <td>-0.417671</td>\n",
       "      <td>-0.795302</td>\n",
       "      <td>0.100167</td>\n",
       "      <td>0.114909</td>\n",
       "      <td>-0.161035</td>\n",
       "      <td>-0.297702</td>\n",
       "      <td>-0.054134</td>\n",
       "      <td>0.062051</td>\n",
       "      <td>AK</td>\n",
       "    </tr>\n",
       "    <tr>\n",
       "      <th>2</th>\n",
       "      <td>-0.197109</td>\n",
       "      <td>1.260783</td>\n",
       "      <td>-0.170482</td>\n",
       "      <td>0.098767</td>\n",
       "      <td>-0.179320</td>\n",
       "      <td>-0.301121</td>\n",
       "      <td>-0.512889</td>\n",
       "      <td>0.059712</td>\n",
       "      <td>-0.383929</td>\n",
       "      <td>0.073097</td>\n",
       "      <td>...</td>\n",
       "      <td>0.754678</td>\n",
       "      <td>0.180323</td>\n",
       "      <td>-0.009341</td>\n",
       "      <td>0.625712</td>\n",
       "      <td>0.792283</td>\n",
       "      <td>0.867172</td>\n",
       "      <td>1.107332</td>\n",
       "      <td>-0.999713</td>\n",
       "      <td>-1.577354</td>\n",
       "      <td>AK</td>\n",
       "    </tr>\n",
       "    <tr>\n",
       "      <th>3</th>\n",
       "      <td>-0.759653</td>\n",
       "      <td>-0.246070</td>\n",
       "      <td>-0.533620</td>\n",
       "      <td>-0.111510</td>\n",
       "      <td>-0.827913</td>\n",
       "      <td>0.023760</td>\n",
       "      <td>0.036641</td>\n",
       "      <td>0.965798</td>\n",
       "      <td>-0.207766</td>\n",
       "      <td>1.060108</td>\n",
       "      <td>...</td>\n",
       "      <td>1.536764</td>\n",
       "      <td>1.247670</td>\n",
       "      <td>1.088329</td>\n",
       "      <td>1.324566</td>\n",
       "      <td>1.185399</td>\n",
       "      <td>0.976763</td>\n",
       "      <td>0.713426</td>\n",
       "      <td>1.064480</td>\n",
       "      <td>0.492163</td>\n",
       "      <td>AL</td>\n",
       "    </tr>\n",
       "    <tr>\n",
       "      <th>4</th>\n",
       "      <td>-0.860033</td>\n",
       "      <td>-0.837759</td>\n",
       "      <td>-0.739429</td>\n",
       "      <td>-0.833392</td>\n",
       "      <td>-0.602023</td>\n",
       "      <td>-0.510427</td>\n",
       "      <td>1.127371</td>\n",
       "      <td>0.222923</td>\n",
       "      <td>-1.085397</td>\n",
       "      <td>0.687006</td>\n",
       "      <td>...</td>\n",
       "      <td>0.449002</td>\n",
       "      <td>-0.219521</td>\n",
       "      <td>0.602244</td>\n",
       "      <td>-0.377621</td>\n",
       "      <td>0.468178</td>\n",
       "      <td>-0.542571</td>\n",
       "      <td>-0.125260</td>\n",
       "      <td>1.064480</td>\n",
       "      <td>0.492163</td>\n",
       "      <td>AL</td>\n",
       "    </tr>\n",
       "  </tbody>\n",
       "</table>\n",
       "<p>5 rows × 49 columns</p>\n",
       "</div>"
      ],
      "text/plain": [
       "   medIncome  pctWWage  perCapInc  whitePerCap  blackPerCap  indianPerCap  \\\n",
       "0   0.876345  1.600432   0.941602     1.159390     0.415994     -0.093158   \n",
       "1   1.234794  1.437346   1.008933     1.308139     0.480702     -0.121228   \n",
       "2  -0.197109  1.260783  -0.170482     0.098767    -0.179320     -0.301121   \n",
       "3  -0.759653 -0.246070  -0.533620    -0.111510    -0.827913      0.023760   \n",
       "4  -0.860033 -0.837759  -0.739429    -0.833392    -0.602023     -0.510427   \n",
       "\n",
       "   asianPerCap  otherPerCap  HispPerCap  pctPopUnderPov  ...  Log_burglPerPop  \\\n",
       "0     0.039099     0.835051    0.563030       -0.420409  ...         1.014704   \n",
       "1    -0.063869     0.771022    0.448013       -0.640405  ...        -0.978673   \n",
       "2    -0.512889     0.059712   -0.383929        0.073097  ...         0.754678   \n",
       "3     0.036641     0.965798   -0.207766        1.060108  ...         1.536764   \n",
       "4     1.127371     0.222923   -1.085397        0.687006  ...         0.449002   \n",
       "\n",
       "   Log_larcenies  Log_larcPerPop  Log_autoTheft  Log_autoTheftPerPop  \\\n",
       "0       1.968360        0.007233       2.586872             0.764607   \n",
       "1      -0.417671       -0.795302       0.100167             0.114909   \n",
       "2       0.180323       -0.009341       0.625712             0.792283   \n",
       "3       1.247670        1.088329       1.324566             1.185399   \n",
       "4      -0.219521        0.602244      -0.377621             0.468178   \n",
       "\n",
       "   Log_arsons  Log_arsonsPerPop  Log_ViolentCrimesPerPop  Log_nonViolPerPop  \\\n",
       "0    2.145875          0.820506                 1.989888           0.680567   \n",
       "1   -0.161035         -0.297702                -0.054134           0.062051   \n",
       "2    0.867172          1.107332                -0.999713          -1.577354   \n",
       "3    0.976763          0.713426                 1.064480           0.492163   \n",
       "4   -0.542571         -0.125260                 1.064480           0.492163   \n",
       "\n",
       "   State  \n",
       "0     AK  \n",
       "1     AK  \n",
       "2     AK  \n",
       "3     AL  \n",
       "4     AL  \n",
       "\n",
       "[5 rows x 49 columns]"
      ]
     },
     "execution_count": 2,
     "metadata": {},
     "output_type": "execute_result"
    }
   ],
   "source": [
    "# Read the crime data\n",
    "df = pd.read_csv(\"processed_dataset.csv\")\n",
    "df.head()"
   ]
  },
  {
   "cell_type": "code",
   "execution_count": 3,
   "metadata": {},
   "outputs": [
    {
     "name": "stdout",
     "output_type": "stream",
     "text": [
      "<class 'pandas.core.frame.DataFrame'>\n",
      "RangeIndex: 1593 entries, 0 to 1592\n",
      "Data columns (total 49 columns):\n",
      " #   Column                   Non-Null Count  Dtype  \n",
      "---  ------                   --------------  -----  \n",
      " 0   medIncome                1593 non-null   float64\n",
      " 1   pctWWage                 1593 non-null   float64\n",
      " 2   perCapInc                1593 non-null   float64\n",
      " 3   whitePerCap              1593 non-null   float64\n",
      " 4   blackPerCap              1593 non-null   float64\n",
      " 5   indianPerCap             1593 non-null   float64\n",
      " 6   asianPerCap              1593 non-null   float64\n",
      " 7   otherPerCap              1593 non-null   float64\n",
      " 8   HispPerCap               1593 non-null   float64\n",
      " 9   pctPopUnderPov           1593 non-null   float64\n",
      " 10  PctNotHSGrad             1593 non-null   float64\n",
      " 11  PctBSorMore              1593 non-null   float64\n",
      " 12  PctUnemployed            1593 non-null   float64\n",
      " 13  PctEmploy                1593 non-null   float64\n",
      " 14  HouseholdSize            1593 non-null   float64\n",
      " 15  TotalPctDiv              1593 non-null   float64\n",
      " 16  PctKids2Par              1593 non-null   float64\n",
      " 17  PctImmigRecent           1593 non-null   float64\n",
      " 18  PctImmigRec5             1593 non-null   float64\n",
      " 19  Log_agepct12t21          1593 non-null   float64\n",
      " 20  Log_agepct12t29          1593 non-null   float64\n",
      " 21  Log_agepct16t24          1593 non-null   float64\n",
      " 22  Log_agepct65up           1593 non-null   float64\n",
      " 23  Log_Population           1593 non-null   float64\n",
      " 24  Log_racepctblack         1591 non-null   float64\n",
      " 25  Log_racepctwhite         1593 non-null   float64\n",
      " 26  Log_racepctasian         1593 non-null   float64\n",
      " 27  Log_racepcthisp          1593 non-null   float64\n",
      " 28  Log_NumImmig             1593 non-null   float64\n",
      " 29  Log_HousVacant           1593 non-null   float64\n",
      " 30  Log_NumInShelters        670 non-null    float64\n",
      " 31  Log_NumStreet            351 non-null    float64\n",
      " 32  Log_murders              781 non-null    float64\n",
      " 33  Log_murdPerPop           781 non-null    float64\n",
      " 34  Log_rapes                1460 non-null   float64\n",
      " 35  Log_rapesPerPop          1460 non-null   float64\n",
      " 36  Log_assaults             1528 non-null   float64\n",
      " 37  Log_assaultPerPop        1528 non-null   float64\n",
      " 38  Log_burglaries           1576 non-null   float64\n",
      " 39  Log_burglPerPop          1576 non-null   float64\n",
      " 40  Log_larcenies            1593 non-null   float64\n",
      " 41  Log_larcPerPop           1593 non-null   float64\n",
      " 42  Log_autoTheft            1593 non-null   float64\n",
      " 43  Log_autoTheftPerPop      1593 non-null   float64\n",
      " 44  Log_arsons               1593 non-null   float64\n",
      " 45  Log_arsonsPerPop         1593 non-null   float64\n",
      " 46  Log_ViolentCrimesPerPop  1352 non-null   float64\n",
      " 47  Log_nonViolPerPop        1352 non-null   float64\n",
      " 48  State                    1593 non-null   object \n",
      "dtypes: float64(48), object(1)\n",
      "memory usage: 609.9+ KB\n"
     ]
    }
   ],
   "source": [
    "df.info()"
   ]
  },
  {
   "cell_type": "code",
   "execution_count": 4,
   "metadata": {},
   "outputs": [
    {
     "data": {
      "text/html": [
       "<div>\n",
       "<style scoped>\n",
       "    .dataframe tbody tr th:only-of-type {\n",
       "        vertical-align: middle;\n",
       "    }\n",
       "\n",
       "    .dataframe tbody tr th {\n",
       "        vertical-align: top;\n",
       "    }\n",
       "\n",
       "    .dataframe thead th {\n",
       "        text-align: right;\n",
       "    }\n",
       "</style>\n",
       "<table border=\"1\" class=\"dataframe\">\n",
       "  <thead>\n",
       "    <tr style=\"text-align: right;\">\n",
       "      <th></th>\n",
       "      <th>Log_ViolentCrimesPerPop</th>\n",
       "      <th>Log_nonViolPerPop</th>\n",
       "    </tr>\n",
       "  </thead>\n",
       "  <tbody>\n",
       "    <tr>\n",
       "      <th>Log_ViolentCrimesPerPop</th>\n",
       "      <td>1.00000</td>\n",
       "      <td>0.79401</td>\n",
       "    </tr>\n",
       "    <tr>\n",
       "      <th>Log_nonViolPerPop</th>\n",
       "      <td>0.79401</td>\n",
       "      <td>1.00000</td>\n",
       "    </tr>\n",
       "  </tbody>\n",
       "</table>\n",
       "</div>"
      ],
      "text/plain": [
       "                         Log_ViolentCrimesPerPop  Log_nonViolPerPop\n",
       "Log_ViolentCrimesPerPop                  1.00000            0.79401\n",
       "Log_nonViolPerPop                        0.79401            1.00000"
      ]
     },
     "execution_count": 4,
     "metadata": {},
     "output_type": "execute_result"
    }
   ],
   "source": [
    "my_df = df[['Log_ViolentCrimesPerPop', 'Log_nonViolPerPop']]\n",
    "my_df.corr(method='pearson')"
   ]
  },
  {
   "cell_type": "markdown",
   "metadata": {},
   "source": [
    "**Removing: <br>\n",
    "-Log_NumInShelters, Log_NumStreet, Log_murders, Log_murdPerPop as they have <50% non-null values <br>\n",
    "-State as it isn't a numeric variable <br>\n",
    "-Log_nonViolPerPop as it has a strong correlation with Log_ViolentCrimesPerPop. Thus, we chose to use the latter.**"
   ]
  },
  {
   "cell_type": "code",
   "execution_count": 5,
   "metadata": {},
   "outputs": [
    {
     "data": {
      "text/html": [
       "<div>\n",
       "<style scoped>\n",
       "    .dataframe tbody tr th:only-of-type {\n",
       "        vertical-align: middle;\n",
       "    }\n",
       "\n",
       "    .dataframe tbody tr th {\n",
       "        vertical-align: top;\n",
       "    }\n",
       "\n",
       "    .dataframe thead th {\n",
       "        text-align: right;\n",
       "    }\n",
       "</style>\n",
       "<table border=\"1\" class=\"dataframe\">\n",
       "  <thead>\n",
       "    <tr style=\"text-align: right;\">\n",
       "      <th></th>\n",
       "      <th>medIncome</th>\n",
       "      <th>pctWWage</th>\n",
       "      <th>perCapInc</th>\n",
       "      <th>whitePerCap</th>\n",
       "      <th>blackPerCap</th>\n",
       "      <th>indianPerCap</th>\n",
       "      <th>asianPerCap</th>\n",
       "      <th>otherPerCap</th>\n",
       "      <th>HispPerCap</th>\n",
       "      <th>pctPopUnderPov</th>\n",
       "      <th>...</th>\n",
       "      <th>Log_assaultPerPop</th>\n",
       "      <th>Log_burglaries</th>\n",
       "      <th>Log_burglPerPop</th>\n",
       "      <th>Log_larcenies</th>\n",
       "      <th>Log_larcPerPop</th>\n",
       "      <th>Log_autoTheft</th>\n",
       "      <th>Log_autoTheftPerPop</th>\n",
       "      <th>Log_arsons</th>\n",
       "      <th>Log_arsonsPerPop</th>\n",
       "      <th>Log_ViolentCrimesPerPop</th>\n",
       "    </tr>\n",
       "  </thead>\n",
       "  <tbody>\n",
       "    <tr>\n",
       "      <th>0</th>\n",
       "      <td>0.876345</td>\n",
       "      <td>1.600432</td>\n",
       "      <td>0.941602</td>\n",
       "      <td>1.159390</td>\n",
       "      <td>0.415994</td>\n",
       "      <td>-0.093158</td>\n",
       "      <td>0.039099</td>\n",
       "      <td>0.835051</td>\n",
       "      <td>0.563030</td>\n",
       "      <td>-0.420409</td>\n",
       "      <td>...</td>\n",
       "      <td>1.091143</td>\n",
       "      <td>2.256699</td>\n",
       "      <td>1.014704</td>\n",
       "      <td>1.968360</td>\n",
       "      <td>0.007233</td>\n",
       "      <td>2.586872</td>\n",
       "      <td>0.764607</td>\n",
       "      <td>2.145875</td>\n",
       "      <td>0.820506</td>\n",
       "      <td>1.989888</td>\n",
       "    </tr>\n",
       "    <tr>\n",
       "      <th>1</th>\n",
       "      <td>1.234794</td>\n",
       "      <td>1.437346</td>\n",
       "      <td>1.008933</td>\n",
       "      <td>1.308139</td>\n",
       "      <td>0.480702</td>\n",
       "      <td>-0.121228</td>\n",
       "      <td>-0.063869</td>\n",
       "      <td>0.771022</td>\n",
       "      <td>0.448013</td>\n",
       "      <td>-0.640405</td>\n",
       "      <td>...</td>\n",
       "      <td>-1.606775</td>\n",
       "      <td>-0.706527</td>\n",
       "      <td>-0.978673</td>\n",
       "      <td>-0.417671</td>\n",
       "      <td>-0.795302</td>\n",
       "      <td>0.100167</td>\n",
       "      <td>0.114909</td>\n",
       "      <td>-0.161035</td>\n",
       "      <td>-0.297702</td>\n",
       "      <td>-0.054134</td>\n",
       "    </tr>\n",
       "    <tr>\n",
       "      <th>2</th>\n",
       "      <td>-0.197109</td>\n",
       "      <td>1.260783</td>\n",
       "      <td>-0.170482</td>\n",
       "      <td>0.098767</td>\n",
       "      <td>-0.179320</td>\n",
       "      <td>-0.301121</td>\n",
       "      <td>-0.512889</td>\n",
       "      <td>0.059712</td>\n",
       "      <td>-0.383929</td>\n",
       "      <td>0.073097</td>\n",
       "      <td>...</td>\n",
       "      <td>1.128776</td>\n",
       "      <td>0.701692</td>\n",
       "      <td>0.754678</td>\n",
       "      <td>0.180323</td>\n",
       "      <td>-0.009341</td>\n",
       "      <td>0.625712</td>\n",
       "      <td>0.792283</td>\n",
       "      <td>0.867172</td>\n",
       "      <td>1.107332</td>\n",
       "      <td>-0.999713</td>\n",
       "    </tr>\n",
       "    <tr>\n",
       "      <th>3</th>\n",
       "      <td>-0.759653</td>\n",
       "      <td>-0.246070</td>\n",
       "      <td>-0.533620</td>\n",
       "      <td>-0.111510</td>\n",
       "      <td>-0.827913</td>\n",
       "      <td>0.023760</td>\n",
       "      <td>0.036641</td>\n",
       "      <td>0.965798</td>\n",
       "      <td>-0.207766</td>\n",
       "      <td>1.060108</td>\n",
       "      <td>...</td>\n",
       "      <td>1.010836</td>\n",
       "      <td>1.623161</td>\n",
       "      <td>1.536764</td>\n",
       "      <td>1.247670</td>\n",
       "      <td>1.088329</td>\n",
       "      <td>1.324566</td>\n",
       "      <td>1.185399</td>\n",
       "      <td>0.976763</td>\n",
       "      <td>0.713426</td>\n",
       "      <td>1.064480</td>\n",
       "    </tr>\n",
       "    <tr>\n",
       "      <th>4</th>\n",
       "      <td>-0.860033</td>\n",
       "      <td>-0.837759</td>\n",
       "      <td>-0.739429</td>\n",
       "      <td>-0.833392</td>\n",
       "      <td>-0.602023</td>\n",
       "      <td>-0.510427</td>\n",
       "      <td>1.127371</td>\n",
       "      <td>0.222923</td>\n",
       "      <td>-1.085397</td>\n",
       "      <td>0.687006</td>\n",
       "      <td>...</td>\n",
       "      <td>-0.049729</td>\n",
       "      <td>-0.099189</td>\n",
       "      <td>0.449002</td>\n",
       "      <td>-0.219521</td>\n",
       "      <td>0.602244</td>\n",
       "      <td>-0.377621</td>\n",
       "      <td>0.468178</td>\n",
       "      <td>-0.542571</td>\n",
       "      <td>-0.125260</td>\n",
       "      <td>1.064480</td>\n",
       "    </tr>\n",
       "  </tbody>\n",
       "</table>\n",
       "<p>5 rows × 43 columns</p>\n",
       "</div>"
      ],
      "text/plain": [
       "   medIncome  pctWWage  perCapInc  whitePerCap  blackPerCap  indianPerCap  \\\n",
       "0   0.876345  1.600432   0.941602     1.159390     0.415994     -0.093158   \n",
       "1   1.234794  1.437346   1.008933     1.308139     0.480702     -0.121228   \n",
       "2  -0.197109  1.260783  -0.170482     0.098767    -0.179320     -0.301121   \n",
       "3  -0.759653 -0.246070  -0.533620    -0.111510    -0.827913      0.023760   \n",
       "4  -0.860033 -0.837759  -0.739429    -0.833392    -0.602023     -0.510427   \n",
       "\n",
       "   asianPerCap  otherPerCap  HispPerCap  pctPopUnderPov  ...  \\\n",
       "0     0.039099     0.835051    0.563030       -0.420409  ...   \n",
       "1    -0.063869     0.771022    0.448013       -0.640405  ...   \n",
       "2    -0.512889     0.059712   -0.383929        0.073097  ...   \n",
       "3     0.036641     0.965798   -0.207766        1.060108  ...   \n",
       "4     1.127371     0.222923   -1.085397        0.687006  ...   \n",
       "\n",
       "   Log_assaultPerPop  Log_burglaries  Log_burglPerPop  Log_larcenies  \\\n",
       "0           1.091143        2.256699         1.014704       1.968360   \n",
       "1          -1.606775       -0.706527        -0.978673      -0.417671   \n",
       "2           1.128776        0.701692         0.754678       0.180323   \n",
       "3           1.010836        1.623161         1.536764       1.247670   \n",
       "4          -0.049729       -0.099189         0.449002      -0.219521   \n",
       "\n",
       "   Log_larcPerPop  Log_autoTheft  Log_autoTheftPerPop  Log_arsons  \\\n",
       "0        0.007233       2.586872             0.764607    2.145875   \n",
       "1       -0.795302       0.100167             0.114909   -0.161035   \n",
       "2       -0.009341       0.625712             0.792283    0.867172   \n",
       "3        1.088329       1.324566             1.185399    0.976763   \n",
       "4        0.602244      -0.377621             0.468178   -0.542571   \n",
       "\n",
       "   Log_arsonsPerPop  Log_ViolentCrimesPerPop  \n",
       "0          0.820506                 1.989888  \n",
       "1         -0.297702                -0.054134  \n",
       "2          1.107332                -0.999713  \n",
       "3          0.713426                 1.064480  \n",
       "4         -0.125260                 1.064480  \n",
       "\n",
       "[5 rows x 43 columns]"
      ]
     },
     "execution_count": 5,
     "metadata": {},
     "output_type": "execute_result"
    }
   ],
   "source": [
    "df_new = df.drop(['Log_NumInShelters', 'Log_NumStreet', 'Log_murders', 'Log_murdPerPop', 'State', 'Log_nonViolPerPop'], axis=1)\n",
    "df_new.head()"
   ]
  },
  {
   "cell_type": "code",
   "execution_count": 7,
   "metadata": {},
   "outputs": [
    {
     "data": {
      "text/plain": [
       "(1225, 43)"
      ]
     },
     "execution_count": 7,
     "metadata": {},
     "output_type": "execute_result"
    }
   ],
   "source": [
    "df_new.dropna(inplace=True)\n",
    "df_new.shape"
   ]
  },
  {
   "cell_type": "code",
   "execution_count": null,
   "metadata": {},
   "outputs": [],
   "source": [
    "# df_new.fillna(0, inplace=True)\n",
    "# df_new.info()"
   ]
  },
  {
   "cell_type": "markdown",
   "metadata": {},
   "source": [
    "**We will be doing Regression Analysis on the crime dataset 2 times. <br>\n",
    "1.The first round will be done on all `43 attributes`. <br>\n",
    "2.The second round will be done after removing attributes with `absolute correlation values of <0.4` (weak ~ no correlation) - obtained from correlation analysis.**"
   ]
  },
  {
   "cell_type": "markdown",
   "metadata": {},
   "source": [
    "**1.Regression with 43 attributes**"
   ]
  },
  {
   "cell_type": "code",
   "execution_count": 8,
   "metadata": {},
   "outputs": [],
   "source": [
    "X = df_new.drop(['Log_ViolentCrimesPerPop'], axis=1)\n",
    "y = df_new['Log_ViolentCrimesPerPop']"
   ]
  },
  {
   "cell_type": "code",
   "execution_count": 9,
   "metadata": {},
   "outputs": [],
   "source": [
    "X_train, X_test, y_train, y_test = train_test_split(X, y, test_size=0.2, random_state=424)"
   ]
  },
  {
   "cell_type": "code",
   "execution_count": 10,
   "metadata": {},
   "outputs": [
    {
     "data": {
      "text/plain": [
       "LinearRegression()"
      ]
     },
     "execution_count": 10,
     "metadata": {},
     "output_type": "execute_result"
    }
   ],
   "source": [
    "lm = LinearRegression()\n",
    "lm.fit(X_train,y_train)"
   ]
  },
  {
   "cell_type": "code",
   "execution_count": 11,
   "metadata": {},
   "outputs": [
    {
     "name": "stdout",
     "output_type": "stream",
     "text": [
      "-3.89\n"
     ]
    }
   ],
   "source": [
    "# y = a + bx\n",
    "# print a\n",
    "print(round(lm.intercept_, 2))"
   ]
  },
  {
   "cell_type": "code",
   "execution_count": 12,
   "metadata": {},
   "outputs": [
    {
     "data": {
      "text/plain": [
       "array([ 2.05063435e-01, -2.19361000e-01,  5.85234767e-02, -2.86436232e-01,\n",
       "        3.82331175e-02,  3.69419969e-02, -1.42583346e-02, -3.64513817e-02,\n",
       "        2.28681990e-02, -1.57592693e-01,  1.76997311e-04,  2.48002158e-02,\n",
       "       -1.74123042e-02, -1.35111652e-02, -1.43578637e-01,  8.57134291e-02,\n",
       "       -7.12495621e-02, -8.31750800e-03,  5.89675018e-05,  1.35015580e-01,\n",
       "        5.37190079e-02, -1.11415762e-01, -1.52704565e-01,  3.97102217e-01,\n",
       "       -3.54093934e-02, -6.10689458e-02, -6.30749625e-03,  1.51375750e-02,\n",
       "        9.66851331e-03, -1.10013962e-01, -4.87008797e-02,  7.36359300e-02,\n",
       "       -2.12357268e+02,  1.52152161e+02,  1.63581822e-01, -5.91602568e-02,\n",
       "       -3.12382267e-01,  3.09897835e-01,  1.35685157e+02, -7.18131330e+01,\n",
       "        4.37254123e-01, -3.70675481e-01])"
      ]
     },
     "execution_count": 12,
     "metadata": {},
     "output_type": "execute_result"
    }
   ],
   "source": [
    "# print b - beta coefficient\n",
    "lm.coef_"
   ]
  },
  {
   "cell_type": "code",
   "execution_count": 13,
   "metadata": {},
   "outputs": [
    {
     "data": {
      "text/html": [
       "<div>\n",
       "<style scoped>\n",
       "    .dataframe tbody tr th:only-of-type {\n",
       "        vertical-align: middle;\n",
       "    }\n",
       "\n",
       "    .dataframe tbody tr th {\n",
       "        vertical-align: top;\n",
       "    }\n",
       "\n",
       "    .dataframe thead th {\n",
       "        text-align: right;\n",
       "    }\n",
       "</style>\n",
       "<table border=\"1\" class=\"dataframe\">\n",
       "  <thead>\n",
       "    <tr style=\"text-align: right;\">\n",
       "      <th></th>\n",
       "      <th>Coefficients</th>\n",
       "    </tr>\n",
       "  </thead>\n",
       "  <tbody>\n",
       "    <tr>\n",
       "      <th>medIncome</th>\n",
       "      <td>0.21</td>\n",
       "    </tr>\n",
       "    <tr>\n",
       "      <th>pctWWage</th>\n",
       "      <td>-0.22</td>\n",
       "    </tr>\n",
       "    <tr>\n",
       "      <th>perCapInc</th>\n",
       "      <td>0.06</td>\n",
       "    </tr>\n",
       "    <tr>\n",
       "      <th>whitePerCap</th>\n",
       "      <td>-0.29</td>\n",
       "    </tr>\n",
       "    <tr>\n",
       "      <th>blackPerCap</th>\n",
       "      <td>0.04</td>\n",
       "    </tr>\n",
       "    <tr>\n",
       "      <th>indianPerCap</th>\n",
       "      <td>0.04</td>\n",
       "    </tr>\n",
       "    <tr>\n",
       "      <th>asianPerCap</th>\n",
       "      <td>-0.01</td>\n",
       "    </tr>\n",
       "    <tr>\n",
       "      <th>otherPerCap</th>\n",
       "      <td>-0.04</td>\n",
       "    </tr>\n",
       "    <tr>\n",
       "      <th>HispPerCap</th>\n",
       "      <td>0.02</td>\n",
       "    </tr>\n",
       "    <tr>\n",
       "      <th>pctPopUnderPov</th>\n",
       "      <td>-0.16</td>\n",
       "    </tr>\n",
       "    <tr>\n",
       "      <th>PctNotHSGrad</th>\n",
       "      <td>0.00</td>\n",
       "    </tr>\n",
       "    <tr>\n",
       "      <th>PctBSorMore</th>\n",
       "      <td>0.02</td>\n",
       "    </tr>\n",
       "    <tr>\n",
       "      <th>PctUnemployed</th>\n",
       "      <td>-0.02</td>\n",
       "    </tr>\n",
       "    <tr>\n",
       "      <th>PctEmploy</th>\n",
       "      <td>-0.01</td>\n",
       "    </tr>\n",
       "    <tr>\n",
       "      <th>HouseholdSize</th>\n",
       "      <td>-0.14</td>\n",
       "    </tr>\n",
       "    <tr>\n",
       "      <th>TotalPctDiv</th>\n",
       "      <td>0.09</td>\n",
       "    </tr>\n",
       "    <tr>\n",
       "      <th>PctKids2Par</th>\n",
       "      <td>-0.07</td>\n",
       "    </tr>\n",
       "    <tr>\n",
       "      <th>PctImmigRecent</th>\n",
       "      <td>-0.01</td>\n",
       "    </tr>\n",
       "    <tr>\n",
       "      <th>PctImmigRec5</th>\n",
       "      <td>0.00</td>\n",
       "    </tr>\n",
       "    <tr>\n",
       "      <th>Log_agepct12t21</th>\n",
       "      <td>0.14</td>\n",
       "    </tr>\n",
       "    <tr>\n",
       "      <th>Log_agepct12t29</th>\n",
       "      <td>0.05</td>\n",
       "    </tr>\n",
       "    <tr>\n",
       "      <th>Log_agepct16t24</th>\n",
       "      <td>-0.11</td>\n",
       "    </tr>\n",
       "    <tr>\n",
       "      <th>Log_agepct65up</th>\n",
       "      <td>-0.15</td>\n",
       "    </tr>\n",
       "    <tr>\n",
       "      <th>Log_Population</th>\n",
       "      <td>0.40</td>\n",
       "    </tr>\n",
       "    <tr>\n",
       "      <th>Log_racepctblack</th>\n",
       "      <td>-0.04</td>\n",
       "    </tr>\n",
       "    <tr>\n",
       "      <th>Log_racepctwhite</th>\n",
       "      <td>-0.06</td>\n",
       "    </tr>\n",
       "    <tr>\n",
       "      <th>Log_racepctasian</th>\n",
       "      <td>-0.01</td>\n",
       "    </tr>\n",
       "    <tr>\n",
       "      <th>Log_racepcthisp</th>\n",
       "      <td>0.02</td>\n",
       "    </tr>\n",
       "    <tr>\n",
       "      <th>Log_NumImmig</th>\n",
       "      <td>0.01</td>\n",
       "    </tr>\n",
       "    <tr>\n",
       "      <th>Log_HousVacant</th>\n",
       "      <td>-0.11</td>\n",
       "    </tr>\n",
       "    <tr>\n",
       "      <th>Log_rapes</th>\n",
       "      <td>-0.05</td>\n",
       "    </tr>\n",
       "    <tr>\n",
       "      <th>Log_rapesPerPop</th>\n",
       "      <td>0.07</td>\n",
       "    </tr>\n",
       "    <tr>\n",
       "      <th>Log_assaults</th>\n",
       "      <td>-212.36</td>\n",
       "    </tr>\n",
       "    <tr>\n",
       "      <th>Log_assaultPerPop</th>\n",
       "      <td>152.15</td>\n",
       "    </tr>\n",
       "    <tr>\n",
       "      <th>Log_burglaries</th>\n",
       "      <td>0.16</td>\n",
       "    </tr>\n",
       "    <tr>\n",
       "      <th>Log_burglPerPop</th>\n",
       "      <td>-0.06</td>\n",
       "    </tr>\n",
       "    <tr>\n",
       "      <th>Log_larcenies</th>\n",
       "      <td>-0.31</td>\n",
       "    </tr>\n",
       "    <tr>\n",
       "      <th>Log_larcPerPop</th>\n",
       "      <td>0.31</td>\n",
       "    </tr>\n",
       "    <tr>\n",
       "      <th>Log_autoTheft</th>\n",
       "      <td>135.69</td>\n",
       "    </tr>\n",
       "    <tr>\n",
       "      <th>Log_autoTheftPerPop</th>\n",
       "      <td>-71.81</td>\n",
       "    </tr>\n",
       "    <tr>\n",
       "      <th>Log_arsons</th>\n",
       "      <td>0.44</td>\n",
       "    </tr>\n",
       "    <tr>\n",
       "      <th>Log_arsonsPerPop</th>\n",
       "      <td>-0.37</td>\n",
       "    </tr>\n",
       "  </tbody>\n",
       "</table>\n",
       "</div>"
      ],
      "text/plain": [
       "                     Coefficients\n",
       "medIncome                    0.21\n",
       "pctWWage                    -0.22\n",
       "perCapInc                    0.06\n",
       "whitePerCap                 -0.29\n",
       "blackPerCap                  0.04\n",
       "indianPerCap                 0.04\n",
       "asianPerCap                 -0.01\n",
       "otherPerCap                 -0.04\n",
       "HispPerCap                   0.02\n",
       "pctPopUnderPov              -0.16\n",
       "PctNotHSGrad                 0.00\n",
       "PctBSorMore                  0.02\n",
       "PctUnemployed               -0.02\n",
       "PctEmploy                   -0.01\n",
       "HouseholdSize               -0.14\n",
       "TotalPctDiv                  0.09\n",
       "PctKids2Par                 -0.07\n",
       "PctImmigRecent              -0.01\n",
       "PctImmigRec5                 0.00\n",
       "Log_agepct12t21              0.14\n",
       "Log_agepct12t29              0.05\n",
       "Log_agepct16t24             -0.11\n",
       "Log_agepct65up              -0.15\n",
       "Log_Population               0.40\n",
       "Log_racepctblack            -0.04\n",
       "Log_racepctwhite            -0.06\n",
       "Log_racepctasian            -0.01\n",
       "Log_racepcthisp              0.02\n",
       "Log_NumImmig                 0.01\n",
       "Log_HousVacant              -0.11\n",
       "Log_rapes                   -0.05\n",
       "Log_rapesPerPop              0.07\n",
       "Log_assaults              -212.36\n",
       "Log_assaultPerPop          152.15\n",
       "Log_burglaries               0.16\n",
       "Log_burglPerPop             -0.06\n",
       "Log_larcenies               -0.31\n",
       "Log_larcPerPop               0.31\n",
       "Log_autoTheft              135.69\n",
       "Log_autoTheftPerPop        -71.81\n",
       "Log_arsons                   0.44\n",
       "Log_arsonsPerPop            -0.37"
      ]
     },
     "execution_count": 13,
     "metadata": {},
     "output_type": "execute_result"
    }
   ],
   "source": [
    "# print b - beta coefficient\n",
    "round(pd.DataFrame(lm.coef_, X.columns, columns=['Coefficients']), 2)"
   ]
  },
  {
   "cell_type": "code",
   "execution_count": 14,
   "metadata": {},
   "outputs": [],
   "source": [
    "# use X_test to predict y values\n",
    "y_pred = lm.predict(X_test)"
   ]
  },
  {
   "cell_type": "code",
   "execution_count": 15,
   "metadata": {},
   "outputs": [
    {
     "data": {
      "text/plain": [
       "<matplotlib.collections.PathCollection at 0x16b6659ce48>"
      ]
     },
     "execution_count": 15,
     "metadata": {},
     "output_type": "execute_result"
    },
    {
     "data": {
      "image/png": "[encoded data removed]",
      "text/plain": [
       "<Figure size 432x288 with 1 Axes>"
      ]
     },
     "metadata": {
      "needs_background": "light"
     },
     "output_type": "display_data"
    }
   ],
   "source": [
    "plt.scatter(y_test, y_pred)"
   ]
  },
  {
   "cell_type": "markdown",
   "metadata": {},
   "source": [
    "**Cross Validation using k-fold**"
   ]
  },
  {
   "cell_type": "code",
   "execution_count": 16,
   "metadata": {},
   "outputs": [
    {
     "name": "stdout",
     "output_type": "stream",
     "text": [
      "0.4222382385376596\n"
     ]
    }
   ],
   "source": [
    "from sklearn.model_selection import cross_val_score\n",
    "clf = LinearRegression()\n",
    "\n",
    "print(np.mean(cross_val_score(clf, X_train, y_train, cv=10)))"
   ]
  },
  {
   "cell_type": "markdown",
   "metadata": {},
   "source": [
    "**Evaluating the model using rmse and r2**"
   ]
  },
  {
   "cell_type": "code",
   "execution_count": 17,
   "metadata": {},
   "outputs": [],
   "source": [
    "from sklearn.metrics import mean_squared_error\n",
    "from sklearn.metrics import r2_score\n",
    "mse = mean_squared_error(y_test, y_pred) "
   ]
  },
  {
   "cell_type": "code",
   "execution_count": 18,
   "metadata": {},
   "outputs": [],
   "source": [
    "rmse = (np.sqrt(mse))\n",
    "r2 = r2_score(y_test, y_pred)"
   ]
  },
  {
   "cell_type": "code",
   "execution_count": 19,
   "metadata": {},
   "outputs": [
    {
     "data": {
      "text/plain": [
       "0.7375360981314873"
      ]
     },
     "execution_count": 19,
     "metadata": {},
     "output_type": "execute_result"
    }
   ],
   "source": [
    "rmse # smaller is better"
   ]
  },
  {
   "cell_type": "code",
   "execution_count": 20,
   "metadata": {},
   "outputs": [
    {
     "data": {
      "text/plain": [
       "0.4277432761462856"
      ]
     },
     "execution_count": 20,
     "metadata": {},
     "output_type": "execute_result"
    }
   ],
   "source": [
    "r2 # higher is better\n",
    "# only approximately 42.77% of the dataset can be explained by the model"
   ]
  },
  {
   "cell_type": "markdown",
   "metadata": {},
   "source": [
    "**Check Residual Plots for Assumptions of Linear Regression**"
   ]
  },
  {
   "cell_type": "code",
   "execution_count": 21,
   "metadata": {},
   "outputs": [],
   "source": [
    "results = pd.DataFrame({'Actual': y_test, 'Predicted': y_pred})\n",
    "results['residuals'] = results['Actual'] - results['Predicted']"
   ]
  },
  {
   "cell_type": "code",
   "execution_count": 22,
   "metadata": {},
   "outputs": [
    {
     "data": {
      "text/plain": [
       "<matplotlib.collections.PathCollection at 0x16b666ad048>"
      ]
     },
     "execution_count": 22,
     "metadata": {},
     "output_type": "execute_result"
    },
    {
     "data": {
      "image/png": "[encoded data removed]",
      "text/plain": [
       "<Figure size 432x288 with 1 Axes>"
      ]
     },
     "metadata": {
      "needs_background": "light"
     },
     "output_type": "display_data"
    }
   ],
   "source": [
    "plt.scatter(results['Predicted'], results['residuals'],  color='blue') # no assumption violated"
   ]
  },
  {
   "cell_type": "markdown",
   "metadata": {},
   "source": [
    "**Get p values to check for significance**"
   ]
  },
  {
   "cell_type": "code",
   "execution_count": 23,
   "metadata": {},
   "outputs": [],
   "source": [
    "import statsmodels.api as sm\n",
    "\n",
    "mod = sm.OLS(y_train,X_train)\n",
    "m1 = mod.fit()\n",
    "p_values = m1.summary2().tables[1]['P>|t|']"
   ]
  },
  {
   "cell_type": "code",
   "execution_count": 24,
   "metadata": {},
   "outputs": [
    {
     "data": {
      "text/plain": [
       "medIncome              0.1583\n",
       "pctWWage               0.0305\n",
       "perCapInc              0.8563\n",
       "whitePerCap            0.2658\n",
       "blackPerCap            0.3216\n",
       "indianPerCap           0.1798\n",
       "asianPerCap            0.6316\n",
       "otherPerCap            0.2259\n",
       "HispPerCap             0.5507\n",
       "pctPopUnderPov         0.0464\n",
       "PctNotHSGrad           0.9943\n",
       "PctBSorMore            0.7136\n",
       "PctUnemployed          0.7430\n",
       "PctEmploy              0.8720\n",
       "HouseholdSize          0.0305\n",
       "TotalPctDiv            0.1189\n",
       "PctKids2Par            0.4145\n",
       "PctImmigRecent         0.9186\n",
       "PctImmigRec5           0.9582\n",
       "Log_agepct12t21        0.0904\n",
       "Log_agepct12t29        0.6557\n",
       "Log_agepct16t24        0.4192\n",
       "Log_agepct65up         0.0635\n",
       "Log_Population         0.0258\n",
       "Log_racepctblack       0.4113\n",
       "Log_racepctwhite       0.3636\n",
       "Log_racepctasian       0.8747\n",
       "Log_racepcthisp        0.7517\n",
       "Log_NumImmig           0.8952\n",
       "Log_HousVacant         0.0401\n",
       "Log_rapes              0.4683\n",
       "Log_rapesPerPop        0.2261\n",
       "Log_assaults           0.0000\n",
       "Log_assaultPerPop      0.0000\n",
       "Log_burglaries         0.6983\n",
       "Log_burglPerPop        0.8511\n",
       "Log_larcenies          0.5458\n",
       "Log_larcPerPop         0.2913\n",
       "Log_autoTheft          0.0020\n",
       "Log_autoTheftPerPop    0.0013\n",
       "Log_arsons             0.6565\n",
       "Log_arsonsPerPop       0.5575\n",
       "Name: P>|t|, dtype: float64"
      ]
     },
     "execution_count": 24,
     "metadata": {},
     "output_type": "execute_result"
    }
   ],
   "source": [
    "round(p_values, 4)\n",
    "# whenever p value > 5%, it is statistically insignificant (95% confidence level)"
   ]
  },
  {
   "cell_type": "markdown",
   "metadata": {},
   "source": [
    "**Attributes that are statistically insignificant (do not reject null hypothesis that the variable has no correlation with the predictor variable) and may have correlation to the predictor variable:**"
   ]
  },
  {
   "cell_type": "code",
   "execution_count": 25,
   "metadata": {},
   "outputs": [
    {
     "data": {
      "text/plain": [
       "medIncome           0.158346\n",
       "perCapInc           0.856256\n",
       "whitePerCap         0.265836\n",
       "blackPerCap         0.321606\n",
       "indianPerCap        0.179818\n",
       "asianPerCap         0.631637\n",
       "otherPerCap         0.225917\n",
       "HispPerCap          0.550730\n",
       "PctNotHSGrad        0.994302\n",
       "PctBSorMore         0.713634\n",
       "PctUnemployed       0.742961\n",
       "PctEmploy           0.872010\n",
       "TotalPctDiv         0.118931\n",
       "PctKids2Par         0.414512\n",
       "PctImmigRecent      0.918606\n",
       "PctImmigRec5        0.958156\n",
       "Log_agepct12t21     0.090394\n",
       "Log_agepct12t29     0.655681\n",
       "Log_agepct16t24     0.419169\n",
       "Log_agepct65up      0.063548\n",
       "Log_racepctblack    0.411277\n",
       "Log_racepctwhite    0.363608\n",
       "Log_racepctasian    0.874725\n",
       "Log_racepcthisp     0.751684\n",
       "Log_NumImmig        0.895152\n",
       "Log_rapes           0.468299\n",
       "Log_rapesPerPop     0.226115\n",
       "Log_burglaries      0.698313\n",
       "Log_burglPerPop     0.851120\n",
       "Log_larcenies       0.545843\n",
       "Log_larcPerPop      0.291281\n",
       "Log_arsons          0.656478\n",
       "Log_arsonsPerPop    0.557527\n",
       "Name: P>|t|, dtype: float64"
      ]
     },
     "execution_count": 25,
     "metadata": {},
     "output_type": "execute_result"
    }
   ],
   "source": [
    "p_values.loc[p_values>0.05]"
   ]
  },
  {
   "cell_type": "markdown",
   "metadata": {},
   "source": [
    "**2.Regression after removing attributes with absolute correlation values of <0.4**"
   ]
  },
  {
   "cell_type": "code",
   "execution_count": 26,
   "metadata": {},
   "outputs": [
    {
     "data": {
      "text/html": [
       "<div>\n",
       "<style scoped>\n",
       "    .dataframe tbody tr th:only-of-type {\n",
       "        vertical-align: middle;\n",
       "    }\n",
       "\n",
       "    .dataframe tbody tr th {\n",
       "        vertical-align: top;\n",
       "    }\n",
       "\n",
       "    .dataframe thead th {\n",
       "        text-align: right;\n",
       "    }\n",
       "</style>\n",
       "<table border=\"1\" class=\"dataframe\">\n",
       "  <thead>\n",
       "    <tr style=\"text-align: right;\">\n",
       "      <th></th>\n",
       "      <th>Log_assaultPerPop</th>\n",
       "      <th>Log_NumImmig</th>\n",
       "      <th>Log_rapes</th>\n",
       "      <th>Log_HousVacant</th>\n",
       "      <th>Log_burglaries</th>\n",
       "      <th>Log_arsons</th>\n",
       "      <th>Log_assaults</th>\n",
       "      <th>Log_Population</th>\n",
       "      <th>Log_larcenies</th>\n",
       "      <th>Log_autoTheft</th>\n",
       "      <th>Log_ViolentCrimesPerPop</th>\n",
       "    </tr>\n",
       "  </thead>\n",
       "  <tbody>\n",
       "    <tr>\n",
       "      <th>0</th>\n",
       "      <td>1.091143</td>\n",
       "      <td>1.884843</td>\n",
       "      <td>2.450948</td>\n",
       "      <td>3.004296</td>\n",
       "      <td>2.256699</td>\n",
       "      <td>2.145875</td>\n",
       "      <td>2.155401</td>\n",
       "      <td>2.966901</td>\n",
       "      <td>1.968360</td>\n",
       "      <td>2.586872</td>\n",
       "      <td>1.989888</td>\n",
       "    </tr>\n",
       "    <tr>\n",
       "      <th>1</th>\n",
       "      <td>-1.606775</td>\n",
       "      <td>0.200143</td>\n",
       "      <td>0.219266</td>\n",
       "      <td>0.200717</td>\n",
       "      <td>-0.706527</td>\n",
       "      <td>-0.161035</td>\n",
       "      <td>-1.143696</td>\n",
       "      <td>0.037003</td>\n",
       "      <td>-0.417671</td>\n",
       "      <td>0.100167</td>\n",
       "      <td>-0.054134</td>\n",
       "    </tr>\n",
       "    <tr>\n",
       "      <th>2</th>\n",
       "      <td>1.128776</td>\n",
       "      <td>0.321331</td>\n",
       "      <td>0.789659</td>\n",
       "      <td>1.026603</td>\n",
       "      <td>0.701692</td>\n",
       "      <td>0.867172</td>\n",
       "      <td>0.922154</td>\n",
       "      <td>0.232294</td>\n",
       "      <td>0.180323</td>\n",
       "      <td>0.625712</td>\n",
       "      <td>-0.999713</td>\n",
       "    </tr>\n",
       "    <tr>\n",
       "      <th>3</th>\n",
       "      <td>1.010836</td>\n",
       "      <td>-0.338452</td>\n",
       "      <td>1.005416</td>\n",
       "      <td>0.931406</td>\n",
       "      <td>1.623161</td>\n",
       "      <td>0.976763</td>\n",
       "      <td>1.150486</td>\n",
       "      <td>0.990247</td>\n",
       "      <td>1.247670</td>\n",
       "      <td>1.324566</td>\n",
       "      <td>1.064480</td>\n",
       "    </tr>\n",
       "    <tr>\n",
       "      <th>4</th>\n",
       "      <td>-0.049729</td>\n",
       "      <td>-1.841107</td>\n",
       "      <td>-1.173172</td>\n",
       "      <td>-0.353038</td>\n",
       "      <td>-0.099189</td>\n",
       "      <td>-0.542571</td>\n",
       "      <td>-0.452474</td>\n",
       "      <td>-0.872536</td>\n",
       "      <td>-0.219521</td>\n",
       "      <td>-0.377621</td>\n",
       "      <td>1.064480</td>\n",
       "    </tr>\n",
       "  </tbody>\n",
       "</table>\n",
       "</div>"
      ],
      "text/plain": [
       "   Log_assaultPerPop  Log_NumImmig  Log_rapes  Log_HousVacant  Log_burglaries  \\\n",
       "0           1.091143      1.884843   2.450948        3.004296        2.256699   \n",
       "1          -1.606775      0.200143   0.219266        0.200717       -0.706527   \n",
       "2           1.128776      0.321331   0.789659        1.026603        0.701692   \n",
       "3           1.010836     -0.338452   1.005416        0.931406        1.623161   \n",
       "4          -0.049729     -1.841107  -1.173172       -0.353038       -0.099189   \n",
       "\n",
       "   Log_arsons  Log_assaults  Log_Population  Log_larcenies  Log_autoTheft  \\\n",
       "0    2.145875      2.155401        2.966901       1.968360       2.586872   \n",
       "1   -0.161035     -1.143696        0.037003      -0.417671       0.100167   \n",
       "2    0.867172      0.922154        0.232294       0.180323       0.625712   \n",
       "3    0.976763      1.150486        0.990247       1.247670       1.324566   \n",
       "4   -0.542571     -0.452474       -0.872536      -0.219521      -0.377621   \n",
       "\n",
       "   Log_ViolentCrimesPerPop  \n",
       "0                 1.989888  \n",
       "1                -0.054134  \n",
       "2                -0.999713  \n",
       "3                 1.064480  \n",
       "4                 1.064480  "
      ]
     },
     "execution_count": 26,
     "metadata": {},
     "output_type": "execute_result"
    }
   ],
   "source": [
    "df_new = df_new[['Log_assaultPerPop', 'Log_NumImmig', 'Log_rapes', 'Log_HousVacant', 'Log_burglaries', 'Log_arsons',\n",
    "                 'Log_assaults', 'Log_Population', 'Log_larcenies', 'Log_autoTheft', 'Log_ViolentCrimesPerPop']]\n",
    "df_new.head()"
   ]
  },
  {
   "cell_type": "code",
   "execution_count": 27,
   "metadata": {},
   "outputs": [],
   "source": [
    "X = df_new.drop(['Log_ViolentCrimesPerPop'], axis=1)\n",
    "y = df_new['Log_ViolentCrimesPerPop']"
   ]
  },
  {
   "cell_type": "code",
   "execution_count": 28,
   "metadata": {},
   "outputs": [],
   "source": [
    "X_train, X_test, y_train, y_test = train_test_split(X, y, test_size=0.2, random_state=424)"
   ]
  },
  {
   "cell_type": "code",
   "execution_count": 29,
   "metadata": {},
   "outputs": [
    {
     "data": {
      "text/plain": [
       "LinearRegression()"
      ]
     },
     "execution_count": 29,
     "metadata": {},
     "output_type": "execute_result"
    }
   ],
   "source": [
    "lm = LinearRegression()\n",
    "lm.fit(X_train,y_train)"
   ]
  },
  {
   "cell_type": "code",
   "execution_count": 30,
   "metadata": {},
   "outputs": [
    {
     "name": "stdout",
     "output_type": "stream",
     "text": [
      "-0.11\n"
     ]
    }
   ],
   "source": [
    "print(round(lm.intercept_, 2))"
   ]
  },
  {
   "cell_type": "code",
   "execution_count": 31,
   "metadata": {},
   "outputs": [
    {
     "data": {
      "text/plain": [
       "array([ 0.00546004, -0.04928512,  0.04920034, -0.0891424 ,  0.10914025,\n",
       "       -0.11633315,  0.02862368,  0.31504541,  0.26831327,  0.20081597])"
      ]
     },
     "execution_count": 31,
     "metadata": {},
     "output_type": "execute_result"
    }
   ],
   "source": [
    "lm.coef_"
   ]
  },
  {
   "cell_type": "code",
   "execution_count": 32,
   "metadata": {},
   "outputs": [
    {
     "data": {
      "text/html": [
       "<div>\n",
       "<style scoped>\n",
       "    .dataframe tbody tr th:only-of-type {\n",
       "        vertical-align: middle;\n",
       "    }\n",
       "\n",
       "    .dataframe tbody tr th {\n",
       "        vertical-align: top;\n",
       "    }\n",
       "\n",
       "    .dataframe thead th {\n",
       "        text-align: right;\n",
       "    }\n",
       "</style>\n",
       "<table border=\"1\" class=\"dataframe\">\n",
       "  <thead>\n",
       "    <tr style=\"text-align: right;\">\n",
       "      <th></th>\n",
       "      <th>Coefficients</th>\n",
       "    </tr>\n",
       "  </thead>\n",
       "  <tbody>\n",
       "    <tr>\n",
       "      <th>Log_assaultPerPop</th>\n",
       "      <td>0.01</td>\n",
       "    </tr>\n",
       "    <tr>\n",
       "      <th>Log_NumImmig</th>\n",
       "      <td>-0.05</td>\n",
       "    </tr>\n",
       "    <tr>\n",
       "      <th>Log_rapes</th>\n",
       "      <td>0.05</td>\n",
       "    </tr>\n",
       "    <tr>\n",
       "      <th>Log_HousVacant</th>\n",
       "      <td>-0.09</td>\n",
       "    </tr>\n",
       "    <tr>\n",
       "      <th>Log_burglaries</th>\n",
       "      <td>0.11</td>\n",
       "    </tr>\n",
       "    <tr>\n",
       "      <th>Log_arsons</th>\n",
       "      <td>-0.12</td>\n",
       "    </tr>\n",
       "    <tr>\n",
       "      <th>Log_assaults</th>\n",
       "      <td>0.03</td>\n",
       "    </tr>\n",
       "    <tr>\n",
       "      <th>Log_Population</th>\n",
       "      <td>0.32</td>\n",
       "    </tr>\n",
       "    <tr>\n",
       "      <th>Log_larcenies</th>\n",
       "      <td>0.27</td>\n",
       "    </tr>\n",
       "    <tr>\n",
       "      <th>Log_autoTheft</th>\n",
       "      <td>0.20</td>\n",
       "    </tr>\n",
       "  </tbody>\n",
       "</table>\n",
       "</div>"
      ],
      "text/plain": [
       "                   Coefficients\n",
       "Log_assaultPerPop          0.01\n",
       "Log_NumImmig              -0.05\n",
       "Log_rapes                  0.05\n",
       "Log_HousVacant            -0.09\n",
       "Log_burglaries             0.11\n",
       "Log_arsons                -0.12\n",
       "Log_assaults               0.03\n",
       "Log_Population             0.32\n",
       "Log_larcenies              0.27\n",
       "Log_autoTheft              0.20"
      ]
     },
     "execution_count": 32,
     "metadata": {},
     "output_type": "execute_result"
    }
   ],
   "source": [
    "round(pd.DataFrame(lm.coef_, X.columns, columns=['Coefficients']), 2)"
   ]
  },
  {
   "cell_type": "code",
   "execution_count": 33,
   "metadata": {},
   "outputs": [],
   "source": [
    "y_pred = lm.predict(X_test)"
   ]
  },
  {
   "cell_type": "code",
   "execution_count": 34,
   "metadata": {},
   "outputs": [
    {
     "data": {
      "text/plain": [
       "<matplotlib.collections.PathCollection at 0x16b681e1ba8>"
      ]
     },
     "execution_count": 34,
     "metadata": {},
     "output_type": "execute_result"
    },
    {
     "data": {
      "image/png": "[encoded data removed]",
      "text/plain": [
       "<Figure size 432x288 with 1 Axes>"
      ]
     },
     "metadata": {
      "needs_background": "light"
     },
     "output_type": "display_data"
    }
   ],
   "source": [
    "plt.scatter(y_test, y_pred)"
   ]
  },
  {
   "cell_type": "markdown",
   "metadata": {},
   "source": [
    "**Cross Validation using k-fold**"
   ]
  },
  {
   "cell_type": "code",
   "execution_count": 35,
   "metadata": {},
   "outputs": [
    {
     "name": "stdout",
     "output_type": "stream",
     "text": [
      "0.45420439640845833\n"
     ]
    }
   ],
   "source": [
    "from sklearn.model_selection import cross_val_score\n",
    "clf = LinearRegression()\n",
    "\n",
    "print(np.mean(cross_val_score(clf, X_train, y_train, cv=10))) # slightly larger than Regression 1 (0.4222)"
   ]
  },
  {
   "cell_type": "markdown",
   "metadata": {},
   "source": [
    "**Evaluating the model using rmse and r2**"
   ]
  },
  {
   "cell_type": "code",
   "execution_count": 36,
   "metadata": {},
   "outputs": [],
   "source": [
    "from sklearn.metrics import mean_squared_error\n",
    "from sklearn.metrics import r2_score\n",
    "mse = mean_squared_error(y_test, y_pred) "
   ]
  },
  {
   "cell_type": "code",
   "execution_count": 37,
   "metadata": {},
   "outputs": [],
   "source": [
    "rmse = (np.sqrt(mse))\n",
    "r2 = r2_score(y_test, y_pred)"
   ]
  },
  {
   "cell_type": "code",
   "execution_count": 38,
   "metadata": {},
   "outputs": [
    {
     "data": {
      "text/plain": [
       "0.7405302613782218"
      ]
     },
     "execution_count": 38,
     "metadata": {},
     "output_type": "execute_result"
    }
   ],
   "source": [
    "rmse # smaller is better\n",
    "# slightly smaller than Regression 1 (0.7375)"
   ]
  },
  {
   "cell_type": "code",
   "execution_count": 39,
   "metadata": {},
   "outputs": [
    {
     "data": {
      "text/plain": [
       "0.4230874822221685"
      ]
     },
     "execution_count": 39,
     "metadata": {},
     "output_type": "execute_result"
    }
   ],
   "source": [
    "r2 # higher is better\n",
    "# slightly smaller than Regression 1 (0.4277)"
   ]
  },
  {
   "cell_type": "markdown",
   "metadata": {},
   "source": [
    "**Check Residual Plots for Assumptions of Linear Regression**"
   ]
  },
  {
   "cell_type": "code",
   "execution_count": 40,
   "metadata": {},
   "outputs": [],
   "source": [
    "results = pd.DataFrame({'Actual': y_test, 'Predicted': y_pred})\n",
    "results['residuals'] = results['Actual'] - results['Predicted']"
   ]
  },
  {
   "cell_type": "code",
   "execution_count": 41,
   "metadata": {},
   "outputs": [
    {
     "data": {
      "text/plain": [
       "<matplotlib.collections.PathCollection at 0x16b68258588>"
      ]
     },
     "execution_count": 41,
     "metadata": {},
     "output_type": "execute_result"
    },
    {
     "data": {
      "image/png": "[encoded data removed]",
      "text/plain": [
       "<Figure size 432x288 with 1 Axes>"
      ]
     },
     "metadata": {
      "needs_background": "light"
     },
     "output_type": "display_data"
    }
   ],
   "source": [
    "plt.scatter(results['Predicted'], results['residuals'],  color='blue') # no assumption violated"
   ]
  },
  {
   "cell_type": "markdown",
   "metadata": {},
   "source": [
    "**Get p values to check for significance**"
   ]
  },
  {
   "cell_type": "code",
   "execution_count": 42,
   "metadata": {},
   "outputs": [],
   "source": [
    "import statsmodels.api as sm\n",
    "\n",
    "mod = sm.OLS(y_train,X_train)\n",
    "m1 = mod.fit()\n",
    "p_values = m1.summary2().tables[1]['P>|t|']"
   ]
  },
  {
   "cell_type": "code",
   "execution_count": 43,
   "metadata": {},
   "outputs": [
    {
     "data": {
      "text/plain": [
       "Log_assaultPerPop    0.1788\n",
       "Log_NumImmig         0.1919\n",
       "Log_rapes            0.1221\n",
       "Log_HousVacant       0.0886\n",
       "Log_burglaries       0.0435\n",
       "Log_arsons           0.0147\n",
       "Log_assaults         0.1242\n",
       "Log_Population       0.3621\n",
       "Log_larcenies        0.0042\n",
       "Log_autoTheft        0.0216\n",
       "Name: P>|t|, dtype: float64"
      ]
     },
     "execution_count": 43,
     "metadata": {},
     "output_type": "execute_result"
    }
   ],
   "source": [
    "round(p_values, 4)\n",
    "# whenever p value > 5%, it is statistically insignificant (95% confidence level)"
   ]
  },
  {
   "cell_type": "markdown",
   "metadata": {},
   "source": [
    "**Attributes that are statistically insignificant (do not reject null hypothesis that the variable has no correlation with the predictor variable) and may have correlation to the predictor variable:**"
   ]
  },
  {
   "cell_type": "code",
   "execution_count": 44,
   "metadata": {},
   "outputs": [
    {
     "data": {
      "text/plain": [
       "Log_assaultPerPop    0.178806\n",
       "Log_NumImmig         0.191869\n",
       "Log_rapes            0.122077\n",
       "Log_HousVacant       0.088584\n",
       "Log_assaults         0.124248\n",
       "Log_Population       0.362147\n",
       "Name: P>|t|, dtype: float64"
      ]
     },
     "execution_count": 44,
     "metadata": {},
     "output_type": "execute_result"
    }
   ],
   "source": [
    "p_values.loc[p_values>0.05]"
   ]
  },
  {
   "cell_type": "code",
   "execution_count": null,
   "metadata": {},
   "outputs": [],
   "source": []
  }
 ],
 "metadata": {
  "kernelspec": {
   "display_name": "Python 3",
   "language": "python",
   "name": "python3"
  },
  "language_info": {
   "codemirror_mode": {
    "name": "ipython",
    "version": 3
   },
   "file_extension": ".py",
   "mimetype": "text/x-python",
   "name": "python",
   "nbconvert_exporter": "python",
   "pygments_lexer": "ipython3",
   "version": "3.7.1"
  }
 },
 "nbformat": 4,
 "nbformat_minor": 4
}
